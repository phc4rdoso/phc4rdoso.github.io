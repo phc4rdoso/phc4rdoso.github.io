{
 "cells": [
  {
   "cell_type": "markdown",
   "id": "72e21519",
   "metadata": {},
   "source": [
    "# Chapter 1: Returns, Returns, and Returns"
   ]
  },
  {
   "cell_type": "markdown",
   "id": "14dbc4e7",
   "metadata": {},
   "source": [
    "> *Keywords for this chapter: Profit, Return, ROAS, ROI, ROMI, NPV, CAC*"
   ]
  },
  {
   "cell_type": "code",
   "execution_count": 43,
   "id": "e13d1e3e",
   "metadata": {
    "tags": [
     "remove-cell"
    ]
   },
   "outputs": [],
   "source": [
    "import numpy as np\n",
    "import matplotlib.pyplot as plt\n",
    "import seaborn as sns\n",
    "\n",
    "sns.set_style(\"whitegrid\")"
   ]
  },
  {
   "cell_type": "markdown",
   "id": "129f04a9",
   "metadata": {},
   "source": [
    "Welcome to the department of marketing of Small Co., a brand new company that is avid to make the difference in the market. As their new hired mathematician you are really excited to start your job and do what you love: math. You were assigned to work on their marketing department, you talk with your peers, understand more about their job, and they tell you that they just started to invest in their first online marketing channel. While you talk with them you find out something astonishing: they still don't have a way to calculate what was the return of their investment. Your eyes starts to sparkle. You know what you will tackle first.  "
   ]
  },
  {
   "cell_type": "markdown",
   "id": "f46c2bd4",
   "metadata": {},
   "source": [
    "## What goes around comes around"
   ]
  },
  {
   "cell_type": "markdown",
   "id": "28592b39",
   "metadata": {},
   "source": [
    "When it comes to any investment that we make in our life, we are mostly interested in what we'll have in return. This investment can be anything: time, money, assets, and even abstract things like dedication and patience. However there's something that is intrinsically attached to our investments: **Risk**. This means that given an input (assets, time, money etc.), the output (interest, a good grade on an exam etc.) is not guaranteed per se, and sometimes the investment that we made will not pay off."
   ]
  },
  {
   "cell_type": "markdown",
   "id": "81b8bdf9",
   "metadata": {},
   "source": [
    "Marketing campaings are no different. When we want to show off our brand in a marketing channel or prospect new clients, we make an investment (e.g. we give an amount of money $x$ to a marketing channel) and we expect a return (e.g. a given $y$ amount of new customers). And risk is inherent to marketing investments, there is no guaranteed output. For instance, we cannot affirm that one will buy our products, become our customer or do whatever action that we would like. We go to the so-called \"open sea\" hoping to find the fish that we are searching for. In fact, marketing investment is tipically risked, and that is why it's usually treated as an [*OPEX*](https://en.wikipedia.org/wiki/Operating_expense) instead of [*CAPEX*](https://en.wikipedia.org/wiki/Capital_expenditure)."
   ]
  },
  {
   "cell_type": "markdown",
   "id": "10cbdbf5",
   "metadata": {},
   "source": [
    "We can understand then this relationship between our investment and its return as a function, that given an investment or input $x$ we receive back an output $y$:"
   ]
  },
  {
   "cell_type": "markdown",
   "id": "8a7a4faf",
   "metadata": {},
   "source": [
    "$$\\tag{1.0} y=f(x)$$"
   ]
  },
  {
   "cell_type": "markdown",
   "id": "1d927cb9",
   "metadata": {},
   "source": [
    "What it's instereting for us is then, what is the form of this function that describes this relationship."
   ]
  },
  {
   "cell_type": "markdown",
   "id": "441ee50f",
   "metadata": {},
   "source": [
    "In the 1990s the concept of **ROMI** (Return on Marketing Investment) started to become more popular as people wanted to distinguish the concept of **ROI** (Return on Investment) that adressed more general investments made by the company from the return on marketing spending. Today it's usally called **ROAS** (Return on Ad Spending), which is the term that we'll use in this book from now on. This metric basically tells us how much dollars (or any monetary unit) we received back for every dollar that we spent, this is the ratio between our spend and our revenue in the given marketing campaign."
   ]
  },
  {
   "cell_type": "markdown",
   "id": "4ba958db",
   "metadata": {},
   "source": [
    "$$\\tag{1.1} ROAS = \\frac{Revenue}{Spend}$$"
   ]
  },
  {
   "cell_type": "markdown",
   "id": "78f3839b",
   "metadata": {},
   "source": [
    "## The cost and the profit"
   ]
  },
  {
   "cell_type": "markdown",
   "id": "64cc1687",
   "metadata": {},
   "source": [
    "We can elaborate a little further on the $ROAS$ concept, since for now it's a bit generic and too simplistic. Let's start by defining a little better what we mean by $Revenue$. Well, our revenue comes from a simple yet very used term in marketing: Net Present Value (a.k.a. NPV). We can define customer NPV as: the value today of all revenue that a customer will give to us in the future when discounted the expenses assiociated with this customer. Usually for marketing optimization we use the mean NPV, or $\\overline{NPV}$, instead of calculating the NPV of each customer individually. When we have several products or services we can take the total customer NPV using the expected value formula. For instance, given a vector of $n$ of NPV for each product/service $i$, and a vector $p$ for the share of customers that contracted that product/service $i$, we can calculate the customer total NPV as:"
   ]
  },
  {
   "cell_type": "markdown",
   "id": "96ea6ef9",
   "metadata": {},
   "source": [
    "$$\\tag{1.2} NPV_{total} = \\sum_{i}(n_i \\times p_i)$$"
   ]
  },
  {
   "cell_type": "markdown",
   "id": "1d5707ba",
   "metadata": {},
   "source": [
    "And the therefore, the $\\overline{NPV}$ is:"
   ]
  },
  {
   "cell_type": "markdown",
   "id": "4db7ae82",
   "metadata": {},
   "source": [
    "$$\\tag{1.3} \\overline{NPV} = E[NPV_{total}]$$"
   ]
  },
  {
   "cell_type": "markdown",
   "id": "da9126f1",
   "metadata": {},
   "source": [
    "That way it's reasonable to say that our revenue is the total new customers attributed to the marketing campaign times their expected NPV:"
   ]
  },
  {
   "cell_type": "markdown",
   "id": "9d2e0676",
   "metadata": {},
   "source": [
    "$$\\tag{1.4} Revenue = Customers_{total} \\times \\overline{NPV}$$"
   ]
  },
  {
   "cell_type": "markdown",
   "id": "18f468c6",
   "metadata": {},
   "source": [
    "For instance, if we got 1000 new customers from the marketing campaign and we expect their mean NPV to be \\\\$50, then we'll have 1000*50=$50000 of revenue."
   ]
  },
  {
   "cell_type": "markdown",
   "id": "11ae61a6",
   "metadata": {},
   "source": [
    "Unfortunately, there is not free lunch on marketing and acquiring a new customer is not only associated with profit, but also a cost. In fact, on marketing you will often hear the term CAC (Customer Acquisition Cost), this refers to how much we paid in order to acquire that customer. If we spent \\\\$1000 in our campaign and we got back 100 customers, then we can say that each customer cost \\\\$10 to us. This metric is really important, if you go to an investor meeting you will probably hear it several times, since we expect to acquire profitable customers at the lower cost possible. We shall now define $CAC$ then:"
   ]
  },
  {
   "cell_type": "markdown",
   "id": "6ea3dbbf",
   "metadata": {},
   "source": [
    "$$\\tag{1.5} CAC = \\frac{Customers_{total}}{Spend}$$"
   ]
  },
  {
   "cell_type": "markdown",
   "id": "c31050ab",
   "metadata": {},
   "source": [
    "With these concepts in mind, we can now break down our $ROAS$ concept and simplify it a little further:"
   ]
  },
  {
   "cell_type": "markdown",
   "id": "52fbf57e",
   "metadata": {},
   "source": [
    "$$\\tag{1.6} ROAS = \\frac{Revenue}{Spend} = \\frac{Customers_{total} \\times \\overline{NPV}}{Spend} = \\frac{Spend \\times \\overline{NPV}}{CAC} \\times \\frac{1}{Spend} = \\frac{\\overline{NPV}}{CAC}$$"
   ]
  },
  {
   "cell_type": "markdown",
   "id": "5524f8fa",
   "metadata": {},
   "source": [
    "A lot of marketers will blindly focus on budget allocations that has a projected $ROAS=1$, therefore meaning that for every dollar spent you will receive this dollar back."
   ]
  },
  {
   "cell_type": "markdown",
   "id": "60f86fb8",
   "metadata": {},
   "source": [
    "## The ROAS metric behavior"
   ]
  },
  {
   "cell_type": "markdown",
   "id": "2f7393d2",
   "metadata": {},
   "source": [
    "With the equation $1.6$ we can understand some properties of our $ROAS$ metric. First of all, we can see that keeping our $\\overline{NPV}$ fixed our ROAS will decrease as our $CAC$ increases. This increase in the $CAC$ is expected due to marketing saturation effects (what we'll see in another chapter). Given that property, for any $CAC$ and fixed $\\overline{NPV}$, our $ROAS$ curve will have the following form:"
   ]
  },
  {
   "cell_type": "code",
   "execution_count": 42,
   "id": "9a159787",
   "metadata": {
    "tags": [
     "hide-input"
    ]
   },
   "outputs": [
    {
     "data": {
      "image/png": "[encoded data removed]",
      "text/plain": [
       "<Figure size 576x432 with 1 Axes>"
      ]
     },
     "metadata": {},
     "output_type": "display_data"
    }
   ],
   "source": [
    "mean_npv = 138.51\n",
    "cac = list(range(1, 100))\n",
    "roas = [mean_npv/c for c in cac]\n",
    "\n",
    "plt.subplots(figsize=(8,6))\n",
    "sns.lineplot(x=cac, y=roas, linewidth=3)\n",
    "plt.xlabel('CAC', fontsize=12)\n",
    "plt.ylabel('ROAS', fontsize=12)\n",
    "plt.suptitle('ROAS over CAC given fixed NPV', fontsize=16)\n",
    "plt.title('Example of ROAS per CAC with a NPV of 138.51', fontsize=11)\n",
    "plt.show()"
   ]
  }
 ],
 "metadata": {
  "kernelspec": {
   "display_name": "Python 3 (ipykernel)",
   "language": "python",
   "name": "python3"
  },
  "language_info": {
   "codemirror_mode": {
    "name": "ipython",
    "version": 3
   },
   "file_extension": ".py",
   "mimetype": "text/x-python",
   "name": "python",
   "nbconvert_exporter": "python",
   "pygments_lexer": "ipython3",
   "version": "3.9.12"
  }
 },
 "nbformat": 4,
 "nbformat_minor": 5
}
