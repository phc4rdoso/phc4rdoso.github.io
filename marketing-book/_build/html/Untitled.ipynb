{
 "cells": [
  {
   "cell_type": "markdown",
   "id": "e4fb14b5",
   "metadata": {},
   "source": [
    "# Should I use `T` as a variable?"
   ]
  },
  {
   "cell_type": "markdown",
   "id": "e26b922c",
   "metadata": {},
   "source": [
    "### Heterogeneous treatment effects"
   ]
  },
  {
   "cell_type": "markdown",
   "id": "4c8c1eb5",
   "metadata": {},
   "source": [
    "### from:"
   ]
  },
  {
   "cell_type": "markdown",
   "id": "133d3039",
   "metadata": {},
   "source": [
    "$$\n",
    "ATE = E[Y|T]\n",
    "$$"
   ]
  },
  {
   "cell_type": "markdown",
   "id": "0902b5c3",
   "metadata": {},
   "source": [
    "### to:"
   ]
  },
  {
   "cell_type": "markdown",
   "id": "b04a4e4f",
   "metadata": {},
   "source": [
    "$$\n",
    "CATE = E[Y|T,X]\n",
    "$$"
   ]
  },
  {
   "cell_type": "markdown",
   "id": "971200b0",
   "metadata": {},
   "source": [
    "$$\n",
    "E[Y|X]\n",
    "$$"
   ]
  },
  {
   "cell_type": "markdown",
   "id": "f4696125",
   "metadata": {},
   "source": [
    "### Score:"
   ]
  },
  {
   "cell_type": "markdown",
   "id": "1382a941",
   "metadata": {},
   "source": [
    "$$\n",
    "    TE = CATE[Y|T=1, X=x] - CATE[Y|T=0, X=x]\n",
    "$$"
   ]
  },
  {
   "cell_type": "markdown",
   "id": "8fc45cf7",
   "metadata": {},
   "source": [
    "$$\n",
    "    E[Y|T,X] <> E[Y|do(T), X]\n",
    "$$"
   ]
  }
 ],
 "metadata": {
  "kernelspec": {
   "display_name": "Python 3 (ipykernel)",
   "language": "python",
   "name": "python3"
  },
  "language_info": {
   "codemirror_mode": {
    "name": "ipython",
    "version": 3
   },
   "file_extension": ".py",
   "mimetype": "text/x-python",
   "name": "python",
   "nbconvert_exporter": "python",
   "pygments_lexer": "ipython3",
   "version": "3.9.12"
  }
 },
 "nbformat": 4,
 "nbformat_minor": 5
}
