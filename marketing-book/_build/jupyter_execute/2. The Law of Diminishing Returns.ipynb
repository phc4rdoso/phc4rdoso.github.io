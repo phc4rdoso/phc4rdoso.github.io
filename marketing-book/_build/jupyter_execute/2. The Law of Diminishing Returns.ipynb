{
 "cells": [
  {
   "cell_type": "markdown",
   "id": "dabc6349",
   "metadata": {},
   "source": [
    "![](chapter-2-cover.png)"
   ]
  },
  {
   "cell_type": "markdown",
   "id": "0b74ba57",
   "metadata": {},
   "source": [
    "# Chapter 2: The Law of Diminishing Returns"
   ]
  },
  {
   "cell_type": "markdown",
   "id": "509dbd08",
   "metadata": {},
   "source": [
    "## Lorem Ipsum"
   ]
  }
 ],
 "metadata": {
  "kernelspec": {
   "display_name": "Python 3 (ipykernel)",
   "language": "python",
   "name": "python3"
  },
  "language_info": {
   "codemirror_mode": {
    "name": "ipython",
    "version": 3
   },
   "file_extension": ".py",
   "mimetype": "text/x-python",
   "name": "python",
   "nbconvert_exporter": "python",
   "pygments_lexer": "ipython3",
   "version": "3.9.16"
  }
 },
 "nbformat": 4,
 "nbformat_minor": 5
}