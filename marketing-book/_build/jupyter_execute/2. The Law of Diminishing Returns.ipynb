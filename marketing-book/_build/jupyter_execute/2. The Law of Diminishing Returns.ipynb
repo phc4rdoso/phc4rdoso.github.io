{
 "cells": [
  {
   "cell_type": "markdown",
   "id": "04d053a3",
   "metadata": {},
   "source": [
    "![](chapter-2-cover.png)"
   ]
  },
  {
   "cell_type": "code",
   "execution_count": 1,
   "id": "01b1d440",
   "metadata": {
    "ExecuteTime": {
     "end_time": "2023-08-25T19:44:37.374711Z",
     "start_time": "2023-08-25T19:44:37.364960Z"
    },
    "tags": [
     "remove-cell"
    ]
   },
   "outputs": [
    {
     "ename": "ModuleNotFoundError",
     "evalue": "No module named 'matplotlib'",
     "output_type": "error",
     "traceback": [
      "\u001b[0;31m---------------------------------------------------------------------------\u001b[0m",
      "\u001b[0;31mModuleNotFoundError\u001b[0m                       Traceback (most recent call last)",
      "Cell \u001b[0;32mIn[1], line 2\u001b[0m\n\u001b[1;32m      1\u001b[0m \u001b[38;5;28;01mimport\u001b[39;00m \u001b[38;5;21;01mnumpy\u001b[39;00m \u001b[38;5;28;01mas\u001b[39;00m \u001b[38;5;21;01mnp\u001b[39;00m\n\u001b[0;32m----> 2\u001b[0m \u001b[38;5;28;01mimport\u001b[39;00m \u001b[38;5;21;01mmatplotlib\u001b[39;00m\u001b[38;5;21;01m.\u001b[39;00m\u001b[38;5;21;01mpyplot\u001b[39;00m \u001b[38;5;28;01mas\u001b[39;00m \u001b[38;5;21;01mplt\u001b[39;00m\n\u001b[1;32m      3\u001b[0m \u001b[38;5;28;01mimport\u001b[39;00m \u001b[38;5;21;01mseaborn\u001b[39;00m \u001b[38;5;28;01mas\u001b[39;00m \u001b[38;5;21;01msns\u001b[39;00m\n\u001b[1;32m      4\u001b[0m \u001b[38;5;28;01mfrom\u001b[39;00m \u001b[38;5;21;01mscipy\u001b[39;00m\u001b[38;5;21;01m.\u001b[39;00m\u001b[38;5;21;01mspecial\u001b[39;00m \u001b[38;5;28;01mimport\u001b[39;00m expit\n",
      "\u001b[0;31mModuleNotFoundError\u001b[0m: No module named 'matplotlib'"
     ]
    }
   ],
   "source": [
    "import numpy as np\n",
    "import matplotlib.pyplot as plt\n",
    "import seaborn as sns\n",
    "from scipy.special import expit\n",
    "\n",
    "sns.set_style(\"whitegrid\")"
   ]
  },
  {
   "cell_type": "markdown",
   "id": "0b74ba57",
   "metadata": {},
   "source": [
    "# Chapter 2: The Law of Diminishing Returns"
   ]
  },
  {
   "cell_type": "markdown",
   "id": "aadcd73d",
   "metadata": {},
   "source": [
    "> *Keywords for this chapter: Diminishing Returns, Marginal Returns, Marginal ROAS, Market Saturation*"
   ]
  },
  {
   "cell_type": "markdown",
   "id": "0fc665ee",
   "metadata": {},
   "source": [
    "## The Non-linearity of Investments"
   ]
  },
  {
   "cell_type": "markdown",
   "id": "03732f2f",
   "metadata": {},
   "source": [
    "An interesting behavior can be noticed on the $ROAS$ calculation: we expect that the $CLV$ of our customers is stable, whilst this is not the same for the $CAC$. Consequently, there is a point on which investing more will give no returns, for instance, when $ROAS <1$. That's exactly why our $ROAS$ will tend to zero."
   ]
  },
  {
   "cell_type": "markdown",
   "id": "9d160c6a",
   "metadata": {},
   "source": [
    "Several economists have studied why that is the case, but one known factor is marketing saturation. An interesting case that illustrates this is what happened to a magazine called *Sports Illustrated* published for the first time in 1954. Since its first publication it started to increase until reach 3.5 million subscribers by the end of 1980s. One can imagine that decades later it may have doubled the amount of subscribers. Interestingly, after many years of investment it reached its natural limit (3.5 million) a where it remained at least until 2000s. Thomas G. Osenton author of *Death of Demand* explains this very briefly:"
   ]
  },
  {
   "cell_type": "markdown",
   "id": "40c48946",
   "metadata": {},
   "source": [
    "```{epigraph}\n",
    "\"Every product or service has a natural consumption level. We just don't know what it is until we launch it, distribute it, and promote it for a generation's time (20 years or more) after which further investment to expand the universe beyond normal limits can be a futile exercise.\"\n",
    "\n",
    "— Thomas G. Osenton\n",
    "```"
   ]
  },
  {
   "cell_type": "markdown",
   "id": "14777bd4",
   "metadata": {},
   "source": [
    "We cannot expect to keep investing and receiving a proportional return always, that means that the relationsip between our investment and return is not linear (e.g. $baseline + investment \\times \\text{return rate}$). In reality we expect the returns to diminish after some time, because we have saturated the market, otherwise our revenue would grow towards infinity. The equation 1.6 shows that with expected behavior, that is, $CAC$ increasing and our $CLV$ remaining roughly the same, the total return over our investment will reach a limit. Therefore, if we would plot the total return explained by our investment, we would see the function reaching a horizontal asymptote as our investment grows towards infinity. "
   ]
  },
  {
   "cell_type": "markdown",
   "id": "1c9cbf22",
   "metadata": {},
   "source": [
    "Furthermore, there are also cases that too little investments leads to lower returns than expected. An example of this is what happens on online markting, that often uses a bidding system to determine who will see which advertisement, in that scenario an underinvested campaign may suffer due to high competition. This will lead to low returns at low investment levels."
   ]
  },
  {
   "cell_type": "code",
   "execution_count": 72,
   "id": "71218194",
   "metadata": {
    "ExecuteTime": {
     "end_time": "2023-08-26T01:51:22.993986Z",
     "start_time": "2023-08-26T01:51:22.421393Z"
    },
    "collapsed": true,
    "tags": [
     "remove-cell"
    ]
   },
   "outputs": [
    {
     "data": {
      "image/png": "[encoded data removed]",
      "text/plain": [
       "<Figure size 1080x432 with 2 Axes>"
      ]
     },
     "metadata": {},
     "output_type": "display_data"
    }
   ],
   "source": [
    "x = np.linspace (0.01, 0.999, num=100)\n",
    "y = np.log (x/(1-x))\n",
    " \n",
    "x_new = y\n",
    "y_new = expit(x_new)\n",
    "\n",
    "x_concave = np.linspace(1, 50, num=100)\n",
    "y_concave = np.emath.logn(1.5, x_concave)\n",
    "\n",
    "fig, axes = plt.subplots(figsize=(15,6), ncols=2, sharex=False, sharey=False)\n",
    "axes[0].plot(x_new, y_new, linewidth=2)\n",
    "axes[0].axvspan(-4.7, -2, facecolor='grey', alpha=0.2)\n",
    "axes[0].axvspan(-2, 3, facecolor='steelblue', alpha=0.2)\n",
    "axes[0].axvspan(3, 7, facecolor='orange', alpha=0.2)\n",
    "axes[0].set_xlabel('Investment', fontsize=12)\n",
    "axes[0].set_ylabel('Return', fontsize=12)\n",
    "axes[0].set_xticks([])\n",
    "axes[0].set_yticks([])\n",
    "axes[0].text(-4.6, 1.08, 'High Competition', fontsize=11)\n",
    "axes[0].text(-0.6, 1.08, 'Profitable Return', fontsize=11)\n",
    "axes[0].text(4, 1.08, 'Market Saturation', fontsize=11)\n",
    "\n",
    "axes[1].plot(x_concave, y_concave, linewidth=2)\n",
    "axes[1].set_xlabel('Investment', fontsize=12)\n",
    "axes[1].set_ylabel('Return', fontsize=12)\n",
    "axes[1].set_xticks([])\n",
    "axes[1].set_yticks([])\n",
    "axes[1].axvspan(0, 10, facecolor='grey', alpha=0.2)\n",
    "axes[1].axvspan(10, 30, facecolor='steelblue', alpha=0.2)\n",
    "axes[1].axvspan(30, 50, facecolor='orange', alpha=0.2)\n",
    "axes[1].text(0, 10.4, 'Fast Growth', fontsize=11)\n",
    "axes[1].text(13, 10.4, 'Decreased Growth', fontsize=11)\n",
    "axes[1].text(34, 10.4, 'Market Saturation', fontsize=11)\n",
    "plt.savefig('./fig/21.jpg', bbox_inches='tight')\n",
    "plt.show()"
   ]
  },
  {
   "cell_type": "markdown",
   "id": "aceadfe7",
   "metadata": {},
   "source": [
    ":::{figure-md} markdown-fig\n",
    "![investmentxreturn](./fig/21.jpg)\n",
    "\n",
    "Left: S-shaped curve, represents businesses that has a slower growth at low level of investments, increases quickly and then saturates. Right: Concave curve, represents businesses that grows quickly at the first investments but after certain amount of investment grows at a decreasing rate.\n",
    ":::"
   ]
  },
  {
   "cell_type": "markdown",
   "id": "2a001a5a",
   "metadata": {},
   "source": [
    "We can exemplify this with the curves shown in Fig 3, in each case can be seen a point on which investing further will lead to roughly no returns. In both cases there is a point on which the market is saturated and the $ROAS$ is not as it was when we started to invest. That makes sense, in most cases, when we start to invest the first people to convert are the ones that were more prone to be customers, meaning that they have a low $CAC$. Similarly we expect that as we keep investing, the easier to convert customer will already get converted and the ones that are not that prone to convert will require more effort (e.g. being exposed to an adverstisement more times) which in turn means a higher $CAC$. One can state then, by recalling equation $1.2$, that $CAC$ is a function of investment and customers acquired, thereby:"
   ]
  },
  {
   "cell_type": "markdown",
   "id": "5cb34fb1",
   "metadata": {},
   "source": [
    "```{math}\n",
    "\\tag{2.1}\\lim_{(Investment, CA) \\to (+\\infty, n)} CAC(Investment, CA) = \\frac{Investment}{CA} = \\frac{\\infty}{n} = \\infty\n",
    "```"
   ]
  },
  {
   "cell_type": "markdown",
   "id": "d6e9d5f3",
   "metadata": {},
   "source": [
    "For $CA$ being the number of customers acquired, $n$ being any arbitrary maximum number of possible customers, and $CA, n \\in I\\!N$."
   ]
  },
  {
   "cell_type": "markdown",
   "id": "a60b9091",
   "metadata": {},
   "source": [
    "Naturaly, one can think on which point of the investment-return curve investing more starts to be unprofitable. The analysis of this will lead to an important concept."
   ]
  },
  {
   "cell_type": "markdown",
   "id": "6defcd5e",
   "metadata": {},
   "source": [
    "## Marginal Returns"
   ]
  },
  {
   "cell_type": "markdown",
   "id": "35a39b18",
   "metadata": {},
   "source": [
    "The question of whether one should keep investing has an intrisic relationship with the future. Will I earn more if I invest more? What is the expected return for the next dollar invested? The answer to this questions often requires assuming that our investment-return function follows a parametric form, that is, and specific shape.\n",
    "\n",
    "Let's take, for instance, the s-shaped growth curve in Fig 3. We can follow the rate of growth by taking the first derivative of that same function."
   ]
  },
  {
   "cell_type": "markdown",
   "id": "58f01769",
   "metadata": {},
   "source": [
    "**Bibliography:**"
   ]
  },
  {
   "cell_type": "markdown",
   "id": "dcbd2f1b",
   "metadata": {},
   "source": [
    "1. Osenton, T. (2004). The Death of Demand: Finding Growth in a Saturated Global Economy. Financial Times Prentice Hall.\n",
    "\n",
    "2. Pandey, Sandeep & Gupta, Snigdha & Chhajed, Shubham. (2021). Marketing Mix Modeling (MMM) -Concepts and Model Interpretation. International Journal of Engineering and Technical Research. 10. 784. 10.17577/IJERTV10IS060396. "
   ]
  },
  {
   "cell_type": "code",
   "execution_count": null,
   "id": "d54e138f",
   "metadata": {},
   "outputs": [],
   "source": []
  }
 ],
 "metadata": {
  "kernelspec": {
   "display_name": "Python 3 (ipykernel)",
   "language": "python",
   "name": "python3"
  },
  "language_info": {
   "codemirror_mode": {
    "name": "ipython",
    "version": 3
   },
   "file_extension": ".py",
   "mimetype": "text/x-python",
   "name": "python",
   "nbconvert_exporter": "python",
   "pygments_lexer": "ipython3",
   "version": "3.9.16"
  }
 },
 "nbformat": 4,
 "nbformat_minor": 5
}