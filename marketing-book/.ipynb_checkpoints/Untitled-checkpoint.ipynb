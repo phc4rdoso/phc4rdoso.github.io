{
 "cells": [
  {
   "cell_type": "code",
   "execution_count": 202,
   "id": "c8b63ba3",
   "metadata": {
    "ExecuteTime": {
     "end_time": "2023-10-22T18:52:48.522747Z",
     "start_time": "2023-10-22T18:52:48.519097Z"
    },
    "execution": {
     "iopub.execute_input": "2023-10-24T19:30:22.663389Z",
     "iopub.status.busy": "2023-10-24T19:30:22.663139Z",
     "iopub.status.idle": "2023-10-24T19:30:22.669149Z",
     "shell.execute_reply": "2023-10-24T19:30:22.668342Z",
     "shell.execute_reply.started": "2023-10-24T19:30:22.663364Z"
    }
   },
   "outputs": [],
   "source": [
    "import pandas as pd\n",
    "import numpy as np\n",
    "import matplotlib.pyplot as plt\n",
    "import seaborn as sns\n",
    "import optuna\n",
    "from functools import partial\n",
    "from sklearn.linear_model import Ridge\n",
    "from sklearn.model_selection import TimeSeriesSplit, cross_validate\n",
    "from sklearn.metrics import mean_squared_error\n",
    "from scipy.linalg import LinAlgWarning\n",
    "import warnings\n",
    "\n",
    "warnings.filterwarnings(\"ignore\", category=FutureWarning)\n",
    "warnings.filterwarnings('ignore', category=LinAlgWarning)\n",
    "\n",
    "pd.set_option('display.float_format', lambda x: '%.5f' % x)\n",
    "np.set_printoptions(suppress=True)\n",
    "#suppress exponential notation, define an appropriate float formatter\n",
    "#specify stdout line width and let pretty print do the work\n",
    "np.set_printoptions(suppress=True, formatter={'float_kind':'{:16.3f}'.format}, linewidth=130)"
   ]
  },
  {
   "cell_type": "code",
   "execution_count": 123,
   "id": "89823764",
   "metadata": {
    "ExecuteTime": {
     "end_time": "2023-10-18T23:54:01.484205Z",
     "start_time": "2023-10-18T23:54:01.477935Z"
    },
    "execution": {
     "iopub.execute_input": "2023-10-24T12:58:12.780425Z",
     "iopub.status.busy": "2023-10-24T12:58:12.780154Z",
     "iopub.status.idle": "2023-10-24T12:58:12.846231Z",
     "shell.execute_reply": "2023-10-24T12:58:12.845444Z",
     "shell.execute_reply.started": "2023-10-24T12:58:12.780395Z"
    }
   },
   "outputs": [],
   "source": [
    "df = pd.read_csv(\"/Users/pedro.hcardoso/dev/book/marketing-book/datasets/weekly_ad_spend.csv\")"
   ]
  },
  {
   "cell_type": "code",
   "execution_count": 124,
   "id": "d3eb388c",
   "metadata": {
    "ExecuteTime": {
     "end_time": "2023-10-18T23:54:01.852435Z",
     "start_time": "2023-10-18T23:54:01.831278Z"
    },
    "execution": {
     "iopub.execute_input": "2023-10-24T12:58:12.945626Z",
     "iopub.status.busy": "2023-10-24T12:58:12.945342Z",
     "iopub.status.idle": "2023-10-24T12:58:12.963521Z",
     "shell.execute_reply": "2023-10-24T12:58:12.962742Z",
     "shell.execute_reply.started": "2023-10-24T12:58:12.945596Z"
    }
   },
   "outputs": [
    {
     "data": {
      "text/html": [
       "<div>\n",
       "<style scoped>\n",
       "    .dataframe tbody tr th:only-of-type {\n",
       "        vertical-align: middle;\n",
       "    }\n",
       "\n",
       "    .dataframe tbody tr th {\n",
       "        vertical-align: top;\n",
       "    }\n",
       "\n",
       "    .dataframe thead th {\n",
       "        text-align: right;\n",
       "    }\n",
       "</style>\n",
       "<table border=\"1\" class=\"dataframe\">\n",
       "  <thead>\n",
       "    <tr style=\"text-align: right;\">\n",
       "      <th></th>\n",
       "      <th>DATE</th>\n",
       "      <th>revenue</th>\n",
       "      <th>tv_S</th>\n",
       "      <th>ooh_S</th>\n",
       "      <th>print_S</th>\n",
       "      <th>facebook_I</th>\n",
       "      <th>search_clicks_P</th>\n",
       "      <th>search_S</th>\n",
       "      <th>competitor_sales_B</th>\n",
       "      <th>facebook_S</th>\n",
       "      <th>events</th>\n",
       "      <th>newsletter</th>\n",
       "    </tr>\n",
       "  </thead>\n",
       "  <tbody>\n",
       "    <tr>\n",
       "      <th>0</th>\n",
       "      <td>2015-11-23</td>\n",
       "      <td>2754371.66667</td>\n",
       "      <td>67075.04000</td>\n",
       "      <td>0.00000</td>\n",
       "      <td>38185.46667</td>\n",
       "      <td>72903852.71259</td>\n",
       "      <td>0.00000</td>\n",
       "      <td>0</td>\n",
       "      <td>8125009</td>\n",
       "      <td>22821.39874</td>\n",
       "      <td>na</td>\n",
       "      <td>19401.65385</td>\n",
       "    </tr>\n",
       "    <tr>\n",
       "      <th>1</th>\n",
       "      <td>2015-11-30</td>\n",
       "      <td>2584276.66667</td>\n",
       "      <td>85840.36000</td>\n",
       "      <td>0.00000</td>\n",
       "      <td>0.00000</td>\n",
       "      <td>16581099.54533</td>\n",
       "      <td>29511.71546</td>\n",
       "      <td>12400</td>\n",
       "      <td>7901549</td>\n",
       "      <td>3425.85735</td>\n",
       "      <td>na</td>\n",
       "      <td>14791.00000</td>\n",
       "    </tr>\n",
       "    <tr>\n",
       "      <th>2</th>\n",
       "      <td>2015-12-07</td>\n",
       "      <td>2547386.66667</td>\n",
       "      <td>0.00000</td>\n",
       "      <td>396835.20000</td>\n",
       "      <td>1361.60000</td>\n",
       "      <td>49954773.67047</td>\n",
       "      <td>36132.35896</td>\n",
       "      <td>11360</td>\n",
       "      <td>8300197</td>\n",
       "      <td>12769.12613</td>\n",
       "      <td>na</td>\n",
       "      <td>14544.00000</td>\n",
       "    </tr>\n",
       "    <tr>\n",
       "      <th>3</th>\n",
       "      <td>2015-12-14</td>\n",
       "      <td>2875220.00000</td>\n",
       "      <td>250350.92000</td>\n",
       "      <td>0.00000</td>\n",
       "      <td>53040.00000</td>\n",
       "      <td>31649297.02879</td>\n",
       "      <td>36804.21096</td>\n",
       "      <td>12760</td>\n",
       "      <td>8122883</td>\n",
       "      <td>8401.47203</td>\n",
       "      <td>na</td>\n",
       "      <td>2800.00000</td>\n",
       "    </tr>\n",
       "    <tr>\n",
       "      <th>4</th>\n",
       "      <td>2015-12-21</td>\n",
       "      <td>2215953.33333</td>\n",
       "      <td>0.00000</td>\n",
       "      <td>832008.00000</td>\n",
       "      <td>0.00000</td>\n",
       "      <td>8802269.47875</td>\n",
       "      <td>28401.74407</td>\n",
       "      <td>10840</td>\n",
       "      <td>7105985</td>\n",
       "      <td>2068.74782</td>\n",
       "      <td>na</td>\n",
       "      <td>15478.00000</td>\n",
       "    </tr>\n",
       "    <tr>\n",
       "      <th>...</th>\n",
       "      <td>...</td>\n",
       "      <td>...</td>\n",
       "      <td>...</td>\n",
       "      <td>...</td>\n",
       "      <td>...</td>\n",
       "      <td>...</td>\n",
       "      <td>...</td>\n",
       "      <td>...</td>\n",
       "      <td>...</td>\n",
       "      <td>...</td>\n",
       "      <td>...</td>\n",
       "      <td>...</td>\n",
       "    </tr>\n",
       "    <tr>\n",
       "      <th>203</th>\n",
       "      <td>2019-10-14</td>\n",
       "      <td>2456240.00000</td>\n",
       "      <td>0.00000</td>\n",
       "      <td>96692.80000</td>\n",
       "      <td>61489.46667</td>\n",
       "      <td>0.00000</td>\n",
       "      <td>152840.32341</td>\n",
       "      <td>44840</td>\n",
       "      <td>7612762</td>\n",
       "      <td>0.00000</td>\n",
       "      <td>na</td>\n",
       "      <td>28157.00000</td>\n",
       "    </tr>\n",
       "    <tr>\n",
       "      <th>204</th>\n",
       "      <td>2019-10-21</td>\n",
       "      <td>2182825.00000</td>\n",
       "      <td>61967.04000</td>\n",
       "      <td>0.00000</td>\n",
       "      <td>0.00000</td>\n",
       "      <td>56881962.23521</td>\n",
       "      <td>103680.04782</td>\n",
       "      <td>41480</td>\n",
       "      <td>6701667</td>\n",
       "      <td>13362.45755</td>\n",
       "      <td>na</td>\n",
       "      <td>10644.00000</td>\n",
       "    </tr>\n",
       "    <tr>\n",
       "      <th>205</th>\n",
       "      <td>2019-10-28</td>\n",
       "      <td>2377706.66667</td>\n",
       "      <td>8793.00000</td>\n",
       "      <td>22550.40000</td>\n",
       "      <td>6990.40000</td>\n",
       "      <td>0.00000</td>\n",
       "      <td>138387.70414</td>\n",
       "      <td>45880</td>\n",
       "      <td>7688920</td>\n",
       "      <td>0.00000</td>\n",
       "      <td>na</td>\n",
       "      <td>9597.00000</td>\n",
       "    </tr>\n",
       "    <tr>\n",
       "      <th>206</th>\n",
       "      <td>2019-11-04</td>\n",
       "      <td>2732825.00000</td>\n",
       "      <td>8981.20000</td>\n",
       "      <td>0.00000</td>\n",
       "      <td>9620.53333</td>\n",
       "      <td>0.00000</td>\n",
       "      <td>151707.99046</td>\n",
       "      <td>53640</td>\n",
       "      <td>8815710</td>\n",
       "      <td>0.00000</td>\n",
       "      <td>na</td>\n",
       "      <td>90189.00000</td>\n",
       "    </tr>\n",
       "    <tr>\n",
       "      <th>207</th>\n",
       "      <td>2019-11-11</td>\n",
       "      <td>2767788.33333</td>\n",
       "      <td>0.00000</td>\n",
       "      <td>0.00000</td>\n",
       "      <td>0.00000</td>\n",
       "      <td>127981119.76524</td>\n",
       "      <td>0.00000</td>\n",
       "      <td>0</td>\n",
       "      <td>9067759</td>\n",
       "      <td>36619.07594</td>\n",
       "      <td>na</td>\n",
       "      <td>19401.65385</td>\n",
       "    </tr>\n",
       "  </tbody>\n",
       "</table>\n",
       "<p>208 rows × 12 columns</p>\n",
       "</div>"
      ],
      "text/plain": [
       "           DATE       revenue         tv_S        ooh_S     print_S  \\\n",
       "0    2015-11-23 2754371.66667  67075.04000      0.00000 38185.46667   \n",
       "1    2015-11-30 2584276.66667  85840.36000      0.00000     0.00000   \n",
       "2    2015-12-07 2547386.66667      0.00000 396835.20000  1361.60000   \n",
       "3    2015-12-14 2875220.00000 250350.92000      0.00000 53040.00000   \n",
       "4    2015-12-21 2215953.33333      0.00000 832008.00000     0.00000   \n",
       "..          ...           ...          ...          ...         ...   \n",
       "203  2019-10-14 2456240.00000      0.00000  96692.80000 61489.46667   \n",
       "204  2019-10-21 2182825.00000  61967.04000      0.00000     0.00000   \n",
       "205  2019-10-28 2377706.66667   8793.00000  22550.40000  6990.40000   \n",
       "206  2019-11-04 2732825.00000   8981.20000      0.00000  9620.53333   \n",
       "207  2019-11-11 2767788.33333      0.00000      0.00000     0.00000   \n",
       "\n",
       "         facebook_I  search_clicks_P  search_S  competitor_sales_B  \\\n",
       "0    72903852.71259          0.00000         0             8125009   \n",
       "1    16581099.54533      29511.71546     12400             7901549   \n",
       "2    49954773.67047      36132.35896     11360             8300197   \n",
       "3    31649297.02879      36804.21096     12760             8122883   \n",
       "4     8802269.47875      28401.74407     10840             7105985   \n",
       "..              ...              ...       ...                 ...   \n",
       "203         0.00000     152840.32341     44840             7612762   \n",
       "204  56881962.23521     103680.04782     41480             6701667   \n",
       "205         0.00000     138387.70414     45880             7688920   \n",
       "206         0.00000     151707.99046     53640             8815710   \n",
       "207 127981119.76524          0.00000         0             9067759   \n",
       "\n",
       "     facebook_S events  newsletter  \n",
       "0   22821.39874     na 19401.65385  \n",
       "1    3425.85735     na 14791.00000  \n",
       "2   12769.12613     na 14544.00000  \n",
       "3    8401.47203     na  2800.00000  \n",
       "4    2068.74782     na 15478.00000  \n",
       "..          ...    ...         ...  \n",
       "203     0.00000     na 28157.00000  \n",
       "204 13362.45755     na 10644.00000  \n",
       "205     0.00000     na  9597.00000  \n",
       "206     0.00000     na 90189.00000  \n",
       "207 36619.07594     na 19401.65385  \n",
       "\n",
       "[208 rows x 12 columns]"
      ]
     },
     "execution_count": 124,
     "metadata": {},
     "output_type": "execute_result"
    }
   ],
   "source": [
    "df"
   ]
  },
  {
   "cell_type": "code",
   "execution_count": 182,
   "id": "af8c0581",
   "metadata": {
    "ExecuteTime": {
     "end_time": "2023-10-22T19:07:53.213690Z",
     "start_time": "2023-10-22T19:07:53.206860Z"
    },
    "execution": {
     "iopub.execute_input": "2023-10-24T19:14:30.355399Z",
     "iopub.status.busy": "2023-10-24T19:14:30.355125Z",
     "iopub.status.idle": "2023-10-24T19:14:30.363207Z",
     "shell.execute_reply": "2023-10-24T19:14:30.362593Z",
     "shell.execute_reply.started": "2023-10-24T19:14:30.355372Z"
    }
   },
   "outputs": [],
   "source": [
    "def adstock_transform(x, retention_rate, duration=13, peak_delay=None, method='geometric'):\n",
    "    \n",
    "    x_adstock = np.zeros_like(x)\n",
    "    \n",
    "    if method == 'convolution':\n",
    "        if peak_delay:\n",
    "            weights = [retention_rate**((w-peak_delay)**2) for w in range(0, duration)]\n",
    "        else:\n",
    "            weights = [retention_rate**w for w in range(0, duration)]\n",
    "\n",
    "        x_adstock = x.rolling(duration, min_periods=1).apply(lambda x: np.average(x[::-1], weights=weights[:len(x)]))\n",
    "        \n",
    "    if method == 'geometric':\n",
    "        x_adstock = x + x.shift(1).fillna(0)*retention_rate\n",
    "        \n",
    "    return x_adstock\n",
    "\n",
    "def hill_transform(x, slope, inflexion):\n",
    "    \n",
    "    inflexion = np.dot((np.min(x), np.max(x)), (1- inflexion, inflexion)) # linear interpolation/extrapolation by dot product\n",
    "    x_hill = x**slope / (x**slope + inflexion**slope)\n",
    "    return x_hill"
   ]
  },
  {
   "cell_type": "code",
   "execution_count": 183,
   "id": "f058e027",
   "metadata": {
    "ExecuteTime": {
     "end_time": "2023-10-22T16:23:43.856269Z",
     "start_time": "2023-10-22T16:23:43.707059Z"
    },
    "execution": {
     "iopub.execute_input": "2023-10-24T19:14:30.906196Z",
     "iopub.status.busy": "2023-10-24T19:14:30.905784Z",
     "iopub.status.idle": "2023-10-24T19:14:31.152302Z",
     "shell.execute_reply": "2023-10-24T19:14:31.151766Z",
     "shell.execute_reply.started": "2023-10-24T19:14:30.906166Z"
    }
   },
   "outputs": [
    {
     "data": {
      "image/png": "[encoded data removed]",
      "text/plain": [
       "<Figure size 576x432 with 1 Axes>"
      ]
     },
     "metadata": {
      "needs_background": "light"
     },
     "output_type": "display_data"
    }
   ],
   "source": [
    "x = df['facebook_S']\n",
    "x_decayed = np.zeros_like(x)\n",
    "x_decayed[0] = x[0]\n",
    "x_adstock = adstock_transform(x, 0.38)\n",
    "x_hill = hill_transform(x_adstock, 3.0028976949766872, 0.5279674468947023)\n",
    "plt.subplots(figsize=(8,6))\n",
    "sns.lineplot(x=x_adstock, y=x_hill)\n",
    "plt.show()"
   ]
  },
  {
   "cell_type": "code",
   "execution_count": 189,
   "id": "5a94c61f",
   "metadata": {
    "ExecuteTime": {
     "end_time": "2023-10-22T19:09:21.643251Z",
     "start_time": "2023-10-22T19:09:21.635946Z"
    },
    "execution": {
     "iopub.execute_input": "2023-10-24T19:18:21.819852Z",
     "iopub.status.busy": "2023-10-24T19:18:21.819569Z",
     "iopub.status.idle": "2023-10-24T19:18:21.831963Z",
     "shell.execute_reply": "2023-10-24T19:18:21.831089Z",
     "shell.execute_reply.started": "2023-10-24T19:18:21.819821Z"
    }
   },
   "outputs": [],
   "source": [
    "control_features = ['competitor_sales_B', 'newsletter', 'search_clicks_P', 'facebook_I'] # 'events']\n",
    "target_feature = ['revenue']\n",
    "spend_features = ['tv_S', 'ooh_S', 'print_S', 'search_S', 'facebook_S']\n",
    "\n",
    "train_test_split_fraction = (.33, .5)\n",
    "\n",
    "model_params ={'alpha': (0.01, 1000)}\n",
    "\n",
    "feature_params = {'tv_S': \n",
    "                       {'adstock_params': {'retention_rate': (0.3, 0.7), 'duration': (1, 15), 'peak_delay': (0, 4), 'method': 'convolution'},\n",
    "                        'hill_params': {'slope': (.1, 3), 'inflexion': (.1, 1)}},\n",
    "                   'ooh_S': \n",
    "                       {'adstock_params': {'retention_rate': (0.3, 0.7), 'duration': (1, 15), 'peak_delay': (0, 4), 'method': 'convolution'},\n",
    "                        'hill_params': {'slope': (.1, 3), 'inflexion': (.1, 1)}},\n",
    "                   'print_S': \n",
    "                       {'adstock_params': {'retention_rate': (0.3, 0.7), 'duration': (1, 15), 'peak_delay': (0, 4), 'method': 'convolution'},\n",
    "                        'hill_params': {'slope': (.1, 3), 'inflexion': (.1, 1)}},\n",
    "                   'search_S': \n",
    "                       {'adstock_params': {'retention_rate': (0.1, 0.3), 'method': 'geometric'},\n",
    "                        'hill_params': {'slope': (.1, 3), 'inflexion': (.1, 1)}},\n",
    "                   'facebook_S': \n",
    "                       {'adstock_params': {'retention_rate': (0.1, 0.3), 'method': 'geometric'},\n",
    "                        'hill_params': {'slope': (.1, 3), 'inflexion': (.1, 1)}}\n",
    "                  }"
   ]
  },
  {
   "cell_type": "code",
   "execution_count": 199,
   "id": "42d4003c",
   "metadata": {
    "ExecuteTime": {
     "end_time": "2023-10-22T19:09:26.795349Z",
     "start_time": "2023-10-22T19:09:26.783126Z"
    },
    "execution": {
     "iopub.execute_input": "2023-10-24T19:22:26.918736Z",
     "iopub.status.busy": "2023-10-24T19:22:26.918449Z",
     "iopub.status.idle": "2023-10-24T19:22:26.940667Z",
     "shell.execute_reply": "2023-10-24T19:22:26.939958Z",
     "shell.execute_reply.started": "2023-10-24T19:22:26.918703Z"
    }
   },
   "outputs": [],
   "source": [
    "def optuna_trial(trial, df, control_features, target_feature, spend_features, train_test_split_fraction, feature_params, model_params):\n",
    "    \n",
    "    ridge_alpha = trial.suggest_float('rigde_alpha', model_params['alpha'][0], model_params['alpha'][1])\n",
    "    split_fraction = trial.suggest_float('train_test_split_fraction', train_test_split_fraction[0], train_test_split_fraction[1])\n",
    "    spend_features_hill = []\n",
    "    \n",
    "    for feature in spend_features:\n",
    "        retention_rate = trial.suggest_float(f'{feature}_retention_rate',\n",
    "                                             feature_params[feature]['adstock_params']['retention_rate'][0],\n",
    "                                             feature_params[feature]['adstock_params']['retention_rate'][1])\n",
    "        \n",
    "        if 'duration' in feature_params[feature]['adstock_params'].keys():\n",
    "            duration = trial.suggest_int(f'{feature}_duration',\n",
    "                                           feature_params[feature]['adstock_params']['duration'][0],\n",
    "                                           feature_params[feature]['adstock_params']['duration'][1])\n",
    "        else:\n",
    "            duration=None\n",
    "        \n",
    "        if 'peak_delay' in feature_params[feature]['adstock_params'].keys():\n",
    "            peak_delay = trial.suggest_int(f'{feature}_peak_delay',\n",
    "                                           feature_params[feature]['adstock_params']['peak_delay'][0],\n",
    "                                           feature_params[feature]['adstock_params']['peak_delay'][1])\n",
    "        else:\n",
    "            peak_delay = None\n",
    "            \n",
    "        method = feature_params[feature]['adstock_params']['method']\n",
    "        \n",
    "        slope = trial.suggest_float(f'{feature}_slope',\n",
    "                                    feature_params[feature]['hill_params']['slope'][0],\n",
    "                                    feature_params[feature]['hill_params']['slope'][1])\n",
    "        \n",
    "        inflexion = trial.suggest_float(f'{feature}_inflexion',\n",
    "                                        feature_params[feature]['hill_params']['inflexion'][0],\n",
    "                                        feature_params[feature]['hill_params']['inflexion'][1])\n",
    "        \n",
    "        df[f'{feature}_adstocked'] = adstock_transform(df[feature], retention_rate, duration, peak_delay, method)\n",
    "        df[f'{feature}_hill'] = hill_transform(df[f'{feature}_adstocked'], slope, inflexion)\n",
    "        spend_features_hill.append(f'{feature}_hill')\n",
    "        \n",
    "    \n",
    "    features = control_features + spend_features_hill\n",
    "    cross_validator = TimeSeriesSplit(n_splits=2, test_size=int(df.shape[0]*split_fraction))\n",
    "    estimator = Ridge(alpha=ridge_alpha)\n",
    "    \n",
    "    scores = cross_validate(estimator=estimator, X=df[features], y=df[target_feature], cv=cross_validator, scoring='neg_mean_absolute_error')\n",
    "    \n",
    "    return np.mean(scores['test_score'])\n",
    "\n",
    "objective = partial(optuna_trial,\n",
    "                    df = df,\n",
    "                    control_features = control_features,\n",
    "                    target_feature = target_feature,\n",
    "                    spend_features = spend_features,\n",
    "                    train_test_split_fraction = train_test_split_fraction,\n",
    "                    feature_params = feature_params,\n",
    "                    model_params = model_params)"
   ]
  },
  {
   "cell_type": "code",
   "execution_count": 203,
   "id": "0cf19380",
   "metadata": {
    "ExecuteTime": {
     "end_time": "2023-10-22T19:25:36.182053Z",
     "start_time": "2023-10-22T19:13:02.787968Z"
    },
    "execution": {
     "iopub.execute_input": "2023-10-24T19:30:27.415456Z",
     "iopub.status.busy": "2023-10-24T19:30:27.414789Z",
     "iopub.status.idle": "2023-10-24T19:42:16.610378Z",
     "shell.execute_reply": "2023-10-24T19:42:16.609876Z",
     "shell.execute_reply.started": "2023-10-24T19:30:27.415422Z"
    }
   },
   "outputs": [
    {
     "data": {
      "application/vnd.jupyter.widget-view+json": {
       "model_id": "331bf266cf8e4c45ac485567c8329aa6",
       "version_major": 2,
       "version_minor": 0
      },
      "text/plain": [
       "  0%|          | 0/2000 [00:00<?, ?it/s]"
      ]
     },
     "metadata": {},
     "output_type": "display_data"
    },
    {
     "name": "stderr",
     "output_type": "stream",
     "text": [
      "/Users/pedro.hcardoso/miniforge3/lib/python3.7/site-packages/sklearn/linear_model/_ridge.py:197: UserWarning: Singular matrix in solving dual problem. Using least-squares solution instead.\n",
      "  \"Singular matrix in solving dual problem. Using \"\n",
      "/Users/pedro.hcardoso/miniforge3/lib/python3.7/site-packages/sklearn/linear_model/_ridge.py:197: UserWarning: Singular matrix in solving dual problem. Using least-squares solution instead.\n",
      "  \"Singular matrix in solving dual problem. Using \"\n"
     ]
    }
   ],
   "source": [
    "optuna.logging.set_verbosity(optuna.logging.WARNING)\n",
    "study = optuna.create_study(direction='maximize')\n",
    "study.optimize(objective, n_trials=2000, show_progress_bar=True)"
   ]
  },
  {
   "cell_type": "code",
   "execution_count": 204,
   "id": "66dc235a",
   "metadata": {
    "ExecuteTime": {
     "end_time": "2023-10-22T19:25:36.330069Z",
     "start_time": "2023-10-22T19:25:36.325425Z"
    },
    "execution": {
     "iopub.execute_input": "2023-10-24T19:42:16.670962Z",
     "iopub.status.busy": "2023-10-24T19:42:16.670771Z",
     "iopub.status.idle": "2023-10-24T19:42:16.679723Z",
     "shell.execute_reply": "2023-10-24T19:42:16.678838Z",
     "shell.execute_reply.started": "2023-10-24T19:42:16.670936Z"
    }
   },
   "outputs": [
    {
     "data": {
      "text/plain": [
       "{'rigde_alpha': 0.4611034775115763,\n",
       " 'train_test_split_fraction': 0.47856980491560686,\n",
       " 'tv_S_retention_rate': 0.5889303087391077,\n",
       " 'tv_S_duration': 14,\n",
       " 'tv_S_peak_delay': 0,\n",
       " 'tv_S_slope': 1.376282021747747,\n",
       " 'tv_S_inflexion': 0.5639844561961249,\n",
       " 'ooh_S_retention_rate': 0.5025076096203812,\n",
       " 'ooh_S_duration': 7,\n",
       " 'ooh_S_peak_delay': 0,\n",
       " 'ooh_S_slope': 0.44651618106893737,\n",
       " 'ooh_S_inflexion': 0.2354675938333437,\n",
       " 'print_S_retention_rate': 0.5851765648265937,\n",
       " 'print_S_duration': 1,\n",
       " 'print_S_peak_delay': 1,\n",
       " 'print_S_slope': 0.7817812186628037,\n",
       " 'print_S_inflexion': 0.6764699268483972,\n",
       " 'search_S_retention_rate': 0.2707195603876379,\n",
       " 'search_S_slope': 1.577184291737807,\n",
       " 'search_S_inflexion': 0.9227481131142556,\n",
       " 'facebook_S_retention_rate': 0.15220236939416573,\n",
       " 'facebook_S_slope': 1.6378424798133482,\n",
       " 'facebook_S_inflexion': 0.21973621826357234}"
      ]
     },
     "execution_count": 204,
     "metadata": {},
     "output_type": "execute_result"
    }
   ],
   "source": [
    "study.best_params"
   ]
  },
  {
   "cell_type": "code",
   "execution_count": 207,
   "id": "585f7c03",
   "metadata": {
    "execution": {
     "iopub.execute_input": "2023-10-24T19:42:26.999699Z",
     "iopub.status.busy": "2023-10-24T19:42:26.999441Z",
     "iopub.status.idle": "2023-10-24T19:42:27.005237Z",
     "shell.execute_reply": "2023-10-24T19:42:27.004311Z",
     "shell.execute_reply.started": "2023-10-24T19:42:26.999671Z"
    }
   },
   "outputs": [
    {
     "data": {
      "text/plain": [
       "-145448.19237266446"
      ]
     },
     "execution_count": 207,
     "metadata": {},
     "output_type": "execute_result"
    }
   ],
   "source": [
    "study.best_value"
   ]
  },
  {
   "cell_type": "code",
   "execution_count": 209,
   "id": "cbd9c354",
   "metadata": {
    "execution": {
     "iopub.execute_input": "2023-10-24T19:42:56.157371Z",
     "iopub.status.busy": "2023-10-24T19:42:56.156866Z",
     "iopub.status.idle": "2023-10-24T19:42:56.394035Z",
     "shell.execute_reply": "2023-10-24T19:42:56.393140Z",
     "shell.execute_reply.started": "2023-10-24T19:42:56.157340Z"
    }
   },
   "outputs": [
    {
     "data": {
      "image/png": "[encoded data removed]",
      "text/plain": [
       "<Figure size 576x432 with 1 Axes>"
      ]
     },
     "metadata": {
      "needs_background": "light"
     },
     "output_type": "display_data"
    }
   ],
   "source": [
    "x = df['facebook_S']\n",
    "x_decayed = np.zeros_like(x)\n",
    "x_decayed[0] = x[0]\n",
    "x_adstock = adstock_transform(x, study.best_params['facebook_S_retention_rate'])\n",
    "x_hill = hill_transform(x_adstock, study.best_params['facebook_S_slope'], study.best_params['facebook_S_inflexion'])\n",
    "plt.subplots(figsize=(8,6))\n",
    "sns.lineplot(x=x_adstock, y=x_hill)\n",
    "plt.show()"
   ]
  },
  {
   "cell_type": "code",
   "execution_count": null,
   "id": "6012cc87",
   "metadata": {},
   "outputs": [],
   "source": []
  }
 ],
 "metadata": {
  "kernelspec": {
   "display_name": "Python 3 (ipykernel)",
   "language": "python",
   "name": "python3"
  },
  "language_info": {
   "codemirror_mode": {
    "name": "ipython",
    "version": 3
   },
   "file_extension": ".py",
   "mimetype": "text/x-python",
   "name": "python",
   "nbconvert_exporter": "python",
   "pygments_lexer": "ipython3",
   "version": "3.7.12"
  },
  "toc": {
   "base_numbering": 1,
   "nav_menu": {},
   "number_sections": true,
   "sideBar": true,
   "skip_h1_title": false,
   "title_cell": "Table of Contents",
   "title_sidebar": "Contents",
   "toc_cell": false,
   "toc_position": {},
   "toc_section_display": true,
   "toc_window_display": false
  },
  "varInspector": {
   "cols": {
    "lenName": 16,
    "lenType": 16,
    "lenVar": 40
   },
   "kernels_config": {
    "python": {
     "delete_cmd_postfix": "",
     "delete_cmd_prefix": "del ",
     "library": "var_list.py",
     "varRefreshCmd": "print(var_dic_list())"
    },
    "r": {
     "delete_cmd_postfix": ") ",
     "delete_cmd_prefix": "rm(",
     "library": "var_list.r",
     "varRefreshCmd": "cat(var_dic_list()) "
    }
   },
   "types_to_exclude": [
    "module",
    "function",
    "builtin_function_or_method",
    "instance",
    "_Feature"
   ],
   "window_display": false
  }
 },
 "nbformat": 4,
 "nbformat_minor": 5
}
